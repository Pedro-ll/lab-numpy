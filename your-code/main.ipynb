{
 "cells": [
  {
   "cell_type": "markdown",
   "metadata": {},
   "source": [
    "# Intrduction to NumPy\n",
    "\n",
    "\n",
    "#### 1. Import NumPy under the name np."
   ]
  },
  {
   "cell_type": "code",
   "execution_count": 139,
   "metadata": {},
   "outputs": [],
   "source": [
    "import numpy as np\n",
    "from numpy import random"
   ]
  },
  {
   "cell_type": "markdown",
   "metadata": {},
   "source": [
    "#### 2. Print your NumPy version."
   ]
  },
  {
   "cell_type": "code",
   "execution_count": 140,
   "metadata": {},
   "outputs": [
    {
     "name": "stdout",
     "output_type": "stream",
     "text": [
      "1.20.3\n"
     ]
    }
   ],
   "source": [
    "print(np.__version__)"
   ]
  },
  {
   "cell_type": "markdown",
   "metadata": {},
   "source": [
    "#### 3. Generate a 2x3x5 3-dimensional array with random values. Assign the array to variable *a*.\n",
    "**Challenge**: there are at least three easy ways that use numpy to generate random arrays. How many ways can you find?"
   ]
  },
  {
   "cell_type": "code",
   "execution_count": 141,
   "metadata": {},
   "outputs": [],
   "source": [
    "a=random.uniform(size=(2,3,5))"
   ]
  },
  {
   "cell_type": "code",
   "execution_count": 142,
   "metadata": {},
   "outputs": [],
   "source": [
    "a=random.normal(size=(2,3,5))"
   ]
  },
  {
   "cell_type": "code",
   "execution_count": 143,
   "metadata": {},
   "outputs": [],
   "source": [
    "a=random.logistic(size=[2,3,5])"
   ]
  },
  {
   "cell_type": "markdown",
   "metadata": {},
   "source": [
    "#### 4. Print *a*.\n"
   ]
  },
  {
   "cell_type": "code",
   "execution_count": 144,
   "metadata": {},
   "outputs": [
    {
     "name": "stdout",
     "output_type": "stream",
     "text": [
      "[[[-1.87885153  0.63814458  1.71396307  1.47427931 -1.93080065]\n",
      "  [ 2.03313925 -0.39316646 -0.77062827 -0.51087586 -4.16213523]\n",
      "  [ 2.85249837  0.08976785  0.13021868 -0.80925294 -0.83814986]]\n",
      "\n",
      " [[-1.54090688 -7.98397287  0.42288834 -0.96150814  0.78395527]\n",
      "  [ 0.43344005 -3.8145407  -0.46052305  1.14609186  1.64763924]\n",
      "  [-0.58458454  2.09347636 -2.79875442 -2.06261691 -0.4151056 ]]]\n"
     ]
    }
   ],
   "source": [
    "print(a)"
   ]
  },
  {
   "cell_type": "markdown",
   "metadata": {},
   "source": [
    "#### 5. Create a 5x2x3 3-dimensional array with all values equaling 1. Assign the array to variable *b*."
   ]
  },
  {
   "cell_type": "code",
   "execution_count": 145,
   "metadata": {},
   "outputs": [],
   "source": [
    "b=np.ones(shape=[5,2,3])"
   ]
  },
  {
   "cell_type": "markdown",
   "metadata": {},
   "source": [
    "#### 6. Print *b*.\n"
   ]
  },
  {
   "cell_type": "code",
   "execution_count": 146,
   "metadata": {},
   "outputs": [
    {
     "name": "stdout",
     "output_type": "stream",
     "text": [
      "[[[1. 1. 1.]\n",
      "  [1. 1. 1.]]\n",
      "\n",
      " [[1. 1. 1.]\n",
      "  [1. 1. 1.]]\n",
      "\n",
      " [[1. 1. 1.]\n",
      "  [1. 1. 1.]]\n",
      "\n",
      " [[1. 1. 1.]\n",
      "  [1. 1. 1.]]\n",
      "\n",
      " [[1. 1. 1.]\n",
      "  [1. 1. 1.]]]\n"
     ]
    }
   ],
   "source": [
    "print(b)"
   ]
  },
  {
   "cell_type": "markdown",
   "metadata": {},
   "source": [
    "#### 7. Do *a* and *b* have the same size? How do you prove that in Python code?"
   ]
  },
  {
   "cell_type": "code",
   "execution_count": 147,
   "metadata": {},
   "outputs": [
    {
     "data": {
      "text/plain": [
       "False"
      ]
     },
     "execution_count": 147,
     "metadata": {},
     "output_type": "execute_result"
    }
   ],
   "source": [
    "a.shape==b.shape"
   ]
  },
  {
   "cell_type": "markdown",
   "metadata": {},
   "source": [
    "#### 8. Are you able to add *a* and *b*? Why or why not?\n"
   ]
  },
  {
   "cell_type": "code",
   "execution_count": 148,
   "metadata": {},
   "outputs": [],
   "source": [
    "# Since they don't have the same dimensions, such mathematical opperation is not possible. It is needed to reshape first."
   ]
  },
  {
   "cell_type": "markdown",
   "metadata": {},
   "source": [
    "#### 9. Transpose *b* so that it has the same structure of *a* (i.e. become a 2x3x5 array). Assign the transposed array to variable *c*."
   ]
  },
  {
   "cell_type": "code",
   "execution_count": 160,
   "metadata": {},
   "outputs": [],
   "source": [
    "# b=b.transpose() Using b.transpose() the final array is not 2x3x5. It is needed to use reshape\n",
    "\n",
    "c=b.reshape([2,3,5])\n"
   ]
  },
  {
   "cell_type": "markdown",
   "metadata": {},
   "source": [
    "#### 10. Try to add *a* and *c*. Now it should work. Assign the sum to variable *d*. But why does it work now?"
   ]
  },
  {
   "cell_type": "code",
   "execution_count": 161,
   "metadata": {},
   "outputs": [],
   "source": [
    "d=a+c  # It works now beacause a.shape == c.shape (same dimensions)"
   ]
  },
  {
   "cell_type": "markdown",
   "metadata": {},
   "source": [
    "#### 11. Print *a* and *d*. Notice the difference and relation of the two array in terms of the values? Explain."
   ]
  },
  {
   "cell_type": "code",
   "execution_count": 162,
   "metadata": {},
   "outputs": [
    {
     "name": "stdout",
     "output_type": "stream",
     "text": [
      "[[[-1.87885153  0.63814458  1.71396307  1.47427931 -1.93080065]\n",
      "  [ 2.03313925 -0.39316646 -0.77062827 -0.51087586 -4.16213523]\n",
      "  [ 2.85249837  0.08976785  0.13021868 -0.80925294 -0.83814986]]\n",
      "\n",
      " [[-1.54090688 -7.98397287  0.42288834 -0.96150814  0.78395527]\n",
      "  [ 0.43344005 -3.8145407  -0.46052305  1.14609186  1.64763924]\n",
      "  [-0.58458454  2.09347636 -2.79875442 -2.06261691 -0.4151056 ]]]\n",
      "\n",
      " ---------------//----------------- \n",
      "\n",
      "[[[1. 1. 1. 1. 1.]\n",
      "  [1. 1. 1. 1. 1.]\n",
      "  [1. 1. 1. 1. 1.]]\n",
      "\n",
      " [[1. 1. 1. 1. 1.]\n",
      "  [1. 1. 1. 1. 1.]\n",
      "  [1. 1. 1. 1. 1.]]]\n",
      "\n",
      " ---------------//----------------- \n",
      "\n",
      "[[[-0.87885153  1.63814458  2.71396307  2.47427931 -0.93080065]\n",
      "  [ 3.03313925  0.60683354  0.22937173  0.48912414 -3.16213523]\n",
      "  [ 3.85249837  1.08976785  1.13021868  0.19074706  0.16185014]]\n",
      "\n",
      " [[-0.54090688 -6.98397287  1.42288834  0.03849186  1.78395527]\n",
      "  [ 1.43344005 -2.8145407   0.53947695  2.14609186  2.64763924]\n",
      "  [ 0.41541546  3.09347636 -1.79875442 -1.06261691  0.5848944 ]]]\n"
     ]
    }
   ],
   "source": [
    "print(a)\n",
    "print(\"\\n ---------------//----------------- \\n\")\n",
    "print(c)\n",
    "print(\"\\n ---------------//----------------- \\n\")\n",
    "print(d)\n",
    "\n",
    "# d was generated using a and c arrays, and is the pointwise sum of them, i.e., d(m,n)=a(m,n)+c(m,n)"
   ]
  },
  {
   "cell_type": "markdown",
   "metadata": {},
   "source": [
    "#### 12. Multiply *a* and *c*. Assign the result to *e*."
   ]
  },
  {
   "cell_type": "code",
   "execution_count": 163,
   "metadata": {},
   "outputs": [],
   "source": [
    "e=a*c"
   ]
  },
  {
   "cell_type": "markdown",
   "metadata": {},
   "source": [
    "#### 13. Does *e* equal to *a*? Why or why not?\n"
   ]
  },
  {
   "cell_type": "code",
   "execution_count": 164,
   "metadata": {},
   "outputs": [
    {
     "name": "stdout",
     "output_type": "stream",
     "text": [
      "[[[-1.87885153  0.63814458  1.71396307  1.47427931 -1.93080065]\n",
      "  [ 2.03313925 -0.39316646 -0.77062827 -0.51087586 -4.16213523]\n",
      "  [ 2.85249837  0.08976785  0.13021868 -0.80925294 -0.83814986]]\n",
      "\n",
      " [[-1.54090688 -7.98397287  0.42288834 -0.96150814  0.78395527]\n",
      "  [ 0.43344005 -3.8145407  -0.46052305  1.14609186  1.64763924]\n",
      "  [-0.58458454  2.09347636 -2.79875442 -2.06261691 -0.4151056 ]]]\n",
      "\n",
      " ---------------//----------------- \n",
      "\n",
      "[[[1. 1. 1. 1. 1.]\n",
      "  [1. 1. 1. 1. 1.]\n",
      "  [1. 1. 1. 1. 1.]]\n",
      "\n",
      " [[1. 1. 1. 1. 1.]\n",
      "  [1. 1. 1. 1. 1.]\n",
      "  [1. 1. 1. 1. 1.]]]\n",
      "\n",
      " ---------------//----------------- \n",
      "\n",
      "[[[-1.87885153  0.63814458  1.71396307  1.47427931 -1.93080065]\n",
      "  [ 2.03313925 -0.39316646 -0.77062827 -0.51087586 -4.16213523]\n",
      "  [ 2.85249837  0.08976785  0.13021868 -0.80925294 -0.83814986]]\n",
      "\n",
      " [[-1.54090688 -7.98397287  0.42288834 -0.96150814  0.78395527]\n",
      "  [ 0.43344005 -3.8145407  -0.46052305  1.14609186  1.64763924]\n",
      "  [-0.58458454  2.09347636 -2.79875442 -2.06261691 -0.4151056 ]]]\n"
     ]
    }
   ],
   "source": [
    "print(a)\n",
    "print(\"\\n ---------------//----------------- \\n\")\n",
    "print(c)\n",
    "print(\"\\n ---------------//----------------- \\n\")\n",
    "print(e)\n",
    "\n",
    "\n",
    "# e and a arrays are equal, since one (array c) is the null element in multiplications. This way the a array stays the same"
   ]
  },
  {
   "cell_type": "markdown",
   "metadata": {},
   "source": [
    "#### 14. Identify the max, min, and mean values in *d*. Assign those values to variables *d_max*, *d_min* and *d_mean*."
   ]
  },
  {
   "cell_type": "code",
   "execution_count": 165,
   "metadata": {},
   "outputs": [],
   "source": [
    "d_max=d.max()\n",
    "d_min=d.min()\n",
    "d_mean=d.mean()"
   ]
  },
  {
   "cell_type": "markdown",
   "metadata": {},
   "source": [
    "#### 15. Now we want to label the values in *d*. First create an empty array *f* with the same shape (i.e. 2x3x5) as *d* using `np.empty`.\n"
   ]
  },
  {
   "cell_type": "code",
   "execution_count": 166,
   "metadata": {},
   "outputs": [],
   "source": [
    "f=np.empty([2,3,5])"
   ]
  },
  {
   "cell_type": "markdown",
   "metadata": {},
   "source": [
    "#### 16. Populate the values in *f*. \n",
    "\n",
    "For each value in *d*, if it's larger than *d_min* but smaller than *d_mean*, assign 25 to the corresponding value in *f*. If a value in *d* is larger than *d_mean* but smaller than *d_max*, assign 75 to the corresponding value in *f*. If a value equals to *d_mean*, assign 50 to the corresponding value in *f*. Assign 0 to the corresponding value(s) in *f* for *d_min* in *d*. Assign 100 to the corresponding value(s) in *f* for *d_max* in *d*. In the end, f should have only the following values: 0, 25, 50, 75, and 100.\n",
    "\n",
    "**Note**: you don't have to use Numpy in this question."
   ]
  },
  {
   "cell_type": "code",
   "execution_count": 167,
   "metadata": {},
   "outputs": [
    {
     "name": "stdout",
     "output_type": "stream",
     "text": [
      "[[[ 25.  75.  75.  75.  25.]\n",
      "  [ 75.  75.  25.  75.  25.]\n",
      "  [100.  75.  75.  25.  25.]]\n",
      "\n",
      " [[ 25.   0.  75.  25.  75.]\n",
      "  [ 75.  25.  75.  75.  75.]\n",
      "  [ 25.  75.  25.  25.  75.]]]\n"
     ]
    }
   ],
   "source": [
    "g=0\n",
    "m=0\n",
    "n=0\n",
    "\n",
    "for g in range(len(f)):\n",
    "    for m in range(len(f[0])):\n",
    "        for n in range(len(f[0][0])):\n",
    "            if d_min<d[g,m,n]<d_mean:\n",
    "                f[g,m,n]=25\n",
    "            elif d_mean<d[g,m,n]<d_max:\n",
    "                f[g,m,n]=75\n",
    "            elif d[g,m,n]==d_mean:\n",
    "                f[g,m,n]=50\n",
    "            elif d[g,m,n]==d_min:\n",
    "                f[g,m,n]=0\n",
    "            elif d[g,m,n]==d_max:\n",
    "                f[g,m,n]=100\n",
    "\n",
    "print(f)"
   ]
  },
  {
   "cell_type": "markdown",
   "metadata": {},
   "source": [
    "#### 17. Print *d* and *f*. Do you have your expected *f*?\n",
    "For instance, if your *d* is:\n",
    "```python\n",
    "[[[1.85836099, 1.67064465, 1.62576044, 1.40243961, 1.88454931],\n",
    "[1.75354326, 1.69403643, 1.36729252, 1.61415071, 1.12104981],\n",
    "[1.72201435, 1.1862918 , 1.87078449, 1.7726778 , 1.88180042]],\n",
    "[[1.44747908, 1.31673383, 1.02000951, 1.52218947, 1.97066381],\n",
    "[1.79129243, 1.74983003, 1.96028037, 1.85166831, 1.65450881],\n",
    "[1.18068344, 1.9587381 , 1.00656599, 1.93402165, 1.73514584]]]\n",
    "```\n",
    "Your *f* should be:\n",
    "```python\n",
    "[[[ 75.,  75.,  75.,  25.,  75.],\n",
    "[ 75.,  75.,  25.,  25.,  25.],\n",
    "[ 75.,  25.,  75.,  75.,  75.]],\n",
    "[[ 25.,  25.,  25.,  25., 100.],\n",
    "[ 75.,  75.,  75.,  75.,  75.],\n",
    "[ 25.,  75.,   0.,  75.,  75.]]]\n",
    "```"
   ]
  },
  {
   "cell_type": "code",
   "execution_count": null,
   "metadata": {},
   "outputs": [],
   "source": [
    "# Yes, got what i was expecting"
   ]
  },
  {
   "cell_type": "markdown",
   "metadata": {},
   "source": [
    "#### 18. Bonus question: instead of using numbers (i.e. 0, 25, 50, 75, and 100), use string values  (\"A\", \"B\", \"C\", \"D\", and \"E\") to label the array elements. For the example above, the expected result is:\n",
    "\n",
    "```python\n",
    "[[[ 'D',  'D',  'D',  'B',  'D'],\n",
    "[ 'D',  'D',  'B',  'B',  'B'],\n",
    "[ 'D',  'B',  'D',  'D',  'D']],\n",
    "[[ 'B',  'B',  'B',  'B',  'E'],\n",
    "[ 'D',  'D',  'D',  'D',  'D'],\n",
    "[ 'B',  'D',   'A',  'D', 'D']]]\n",
    "```\n",
    "**Note**: you don't have to use Numpy in this question."
   ]
  },
  {
   "cell_type": "code",
   "execution_count": 172,
   "metadata": {},
   "outputs": [
    {
     "name": "stdout",
     "output_type": "stream",
     "text": [
      "[[['B' 'D' 'D' 'D' 'B']\n",
      "  ['D' 'D' 'B' 'D' 'B']\n",
      "  ['E' 'D' 'D' 'B' 'B']]\n",
      "\n",
      " [['B' 'A' 'D' 'B' 'D']\n",
      "  ['D' 'B' 'D' 'D' 'D']\n",
      "  ['B' 'D' 'B' 'B' 'D']]]\n"
     ]
    }
   ],
   "source": [
    "f=np.empty([2,3,5],dtype=\"str\")\n",
    "\n",
    "for g in range(len(f)):\n",
    "    for m in range(len(f[0])):\n",
    "        for n in range(len(f[0][0])):\n",
    "            if d_min<d[g,m,n]<d_mean:\n",
    "                f[g,m,n]=\"B\"\n",
    "            elif d_mean<d[g,m,n]<d_max:\n",
    "                f[g,m,n]=\"D\"\n",
    "            elif d[g,m,n]==d_mean:\n",
    "                f[g,m,n]=\"C\"\n",
    "            elif d[g,m,n]==d_min:\n",
    "                f[g,m,n]=\"A\"\n",
    "            elif d[g,m,n]==d_max:\n",
    "                f[g,m,n]=\"E\"\n",
    "\n",
    "print(f)"
   ]
  }
 ],
 "metadata": {
  "kernelspec": {
   "display_name": "Python 3 (ipykernel)",
   "language": "python",
   "name": "python3"
  },
  "language_info": {
   "codemirror_mode": {
    "name": "ipython",
    "version": 3
   },
   "file_extension": ".py",
   "mimetype": "text/x-python",
   "name": "python",
   "nbconvert_exporter": "python",
   "pygments_lexer": "ipython3",
   "version": "3.9.7"
  }
 },
 "nbformat": 4,
 "nbformat_minor": 2
}
